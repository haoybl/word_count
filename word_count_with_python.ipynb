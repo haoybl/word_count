{
 "cells": [
  {
   "cell_type": "markdown",
   "metadata": {},
   "source": [
    "# Qiudong Deng \n",
    "#qddeng@gmail.com\n"
   ]
  },
  {
   "cell_type": "code",
   "execution_count": 1,
   "metadata": {
    "collapsed": true
   },
   "outputs": [],
   "source": [
    "# var sections \n",
    "#set top num of words\n",
    "n = 20\n",
    "#set link of the paper\n",
    "url = 'http://ocw.mit.edu/ans7870/6/6.006/s08/lecturenotes/files/t8.shakespeare.txt'"
   ]
  },
  {
   "cell_type": "code",
   "execution_count": 2,
   "metadata": {
    "collapsed": false
   },
   "outputs": [
    {
     "data": {
      "text/plain": [
       "str"
      ]
     },
     "execution_count": 2,
     "metadata": {},
     "output_type": "execute_result"
    }
   ],
   "source": [
    "from urllib.request import urlopen\n",
    "\n",
    "#with urlopen('http://ocw.mit.edu/ans7870/6/6.006/s08/lecturenotes/files/t8.shakespeare.txt') as src:\n",
    "#    txt = src.readlines()\n",
    "data = urlopen(url).read().decode()\n",
    "#convert to text string\n",
    "import re\n",
    "import string\n",
    "frequency = {}\n",
    "text_string = data\n",
    "type(text_string)"
   ]
  },
  {
   "cell_type": "code",
   "execution_count": 3,
   "metadata": {
    "collapsed": true
   },
   "outputs": [],
   "source": [
    "#define common words\n",
    "common_words = ['a','able','about','across','after','all','almost','also',\n",
    "                'am','among','an','and','any','are','as','at','be','because',\n",
    "                'been','but','by','can','cannot','could','dear','did','do',\n",
    "                'does','either','else','ever','every','for','from','get','got',\n",
    "                'had','has','have','he','her','hers','him','his','how','however',\n",
    "                'i','if','in','into','is','it','its','just','least','let','like',\n",
    "                'likely','may','me','might','most','must','my','neither','no','nor',\n",
    "                'not','of','off','often','on','only','or','other','our','out','own',\n",
    "                'rather','said','say','says','she','should','since','so','some',\n",
    "                'such','than','that','the','their','them','then','there','these',\n",
    "                'they','this','to','too','us','wants','was','we','were','what',\n",
    "                'when','where','which','while','who','whom','why','will','with',\n",
    "                'would','yet','you','your','shall','these','one','here']"
   ]
  },
  {
   "cell_type": "code",
   "execution_count": 4,
   "metadata": {
    "collapsed": false
   },
   "outputs": [
    {
     "name": "stdout",
     "output_type": "stream",
     "text": [
      "342879\n",
      "['file', 'presented', 'presented', 'cooperation', 'releases', 'placed', 'certain', 'copyright', 'implications', 'read', 'proud', 'cooperate', 'presentation', 'reading', 'education', 'entertainment', 'contacting', 'further', 'information', 'included', 'below', 'need', 'donations', 'file', 'named', 'txt', 'zip', 'etexts', 'new', 'txt', 'based', 'separate', 'sources', 'new', 'txt', 'further', 'information', 'call', 'email', 'julianc', 'netcom', 'com', 'give', 'thanks', 'cooperation', 'official', 'release', 'date', 'last', 'day', 'stated', 'month', 'preliminary', 'version', 'posted', 'suggestion', 'comment', 'editing', 'those', 'wish', 'sure', 'date', 'first', 'edition', 'xxx', 'please', 'check', 'file', 'sizes', 'first', 'week', 'next', 'month', 'ftp', 'program', 'bug', 'scrambles', 'date', 'tried', 'fix', 'failed', 'look', 'file', 'size', 'try', 'see', 'new', 'copy', 'byte', 'more', 'less', 'page', 'produce', 'two', 'million', 'dollars', 'each', 'hour', 'work', 'fifty']\n"
     ]
    }
   ],
   "source": [
    "# remove space etc \n",
    "match_pattern = re.findall(r'\\b[a-z]{3,15}\\b', text_string)\n",
    "type(match_pattern)\n",
    "#remove these common words from the text\n",
    "#http://stackoverflow.com/questions/11434599/remove-list-from-list-in-python\n",
    "new_list = list(filter(lambda v: v not in common_words, match_pattern))\n",
    "#sorted(new_list)\n",
    "print(len(new_list))\n",
    "print(new_list[0:100])"
   ]
  },
  {
   "cell_type": "code",
   "execution_count": 5,
   "metadata": {
    "collapsed": false
   },
   "outputs": [
    {
     "name": "stdout",
     "output_type": "stream",
     "text": [
      "[(1, 'chalk'), (3, 'regia'), (254, 'near'), (1, 'grubb'), (2, 'freezes'), (22, 'pays'), (26, 'matters'), (1, 'snowed'), (3, 'supplications'), (1, 'plodding'), (2, 'observer'), (2, 'admonition'), (21, 'middle'), (3, 'tremblest'), (32, 'guarded'), (3, 'younker'), (4, 'privileg'), (1, 'grafters'), (1, 'waggoner'), (1, 'racking'), (1, 'scarecrows'), (2, 'pavement'), (1, 'misconceived'), (8, 'ginger'), (1, 'hist'), (1, 'ministration'), (1, 'occupat'), (11, 'jaws'), (7, 'generals'), (1, 'upping'), (2, 'eclips'), (25, 'tend'), (1, 'sapit'), (4, 'maidenheads'), (1, 'regular'), (1, 'coher'), (4, 'strut'), (1, 'wittiest'), (6, 'constantly'), (6, 'doctors'), (1, 'superstition'), (1, 'beldame'), (1, 'hushes'), (1, 'believest'), (1, 'comme'), (9, 'plea'), (4, 'assailed'), (3, 'insult'), (8, 'brands'), (3, 'indigest'), (1, 'stemming'), (1, 'nayward'), (53, 'meant'), (5, 'prone'), (8, 'echo'), (4, 'regreet'), (1, 'lifter'), (1, 'whencesoever'), (2, 'distributed'), (10, 'overcame'), (5, 'cracking'), (1, 'misreport'), (1, 'strictly'), (1, 'maxim'), (7, 'requital'), (2, 'intermingle'), (1, 'ramps'), (1, 'illumineth'), (2, 'shag'), (1, 'gardener'), (288, 'shalt'), (57, 'murder'), (3, 'aching'), (15, 'wronged'), (84, 'walls'), (8, 'military'), (1, 'fitment'), (5, 'arraign'), (1, 'infliction'), (6, 'fates'), (3, 'confessions'), (1, 'erreaches'), (4, 'disobedient'), (2, 'verba'), (3, 'crupper'), (4, 'divorc'), (2, 'evilly'), (5, 'smear'), (22, 'speeches'), (7, 'hog'), (1, 'aground'), (1, 'underta'), (13, 'dismay'), (2, 'forenoon'), (1, 'disbursed'), (1, 'ignomy'), (6, 'stalk'), (2, 'grisly'), (22, 'forc'), (1, 'overscutch')]\n",
      "[(4594, 'thou'), (3634, 'thy'), (3162, 'thee'), (2282, 'good'), (2072, 'more'), (2071, 'love'), (2046, 'lord'), (1994, 'now'), (1966, 'man'), (1763, 'sir'), (1655, 'well'), (1650, 'hath'), (1650, 'know'), (1563, 'come'), (1473, 'make'), (1430, 'upon'), (1331, 'see'), (1076, 'mine'), (1051, 'heart'), (1034, 'father'), (1033, 'time'), (1018, 'give'), (1005, 'speak'), (1005, 'take'), (996, 'much'), (986, 'think'), (927, 'day'), (916, 'men'), (907, 'never'), (897, 'tell'), (856, 'art'), (853, 'hand'), (853, 'life'), (845, 'death'), (830, 'great'), (817, 'doth'), (808, 'night'), (793, 'hear'), (768, 'made'), (762, 'tis'), (759, 'true'), (758, 'very'), (757, 'again'), (708, 'fair'), (684, 'away'), (682, 'eyes'), (678, 'world'), (671, 'look'), (668, 'son'), (664, 'sweet'), (660, 'blood'), (657, 'done'), (653, 'name'), (638, 'two'), (635, 'down'), (632, 'call'), (628, 'before'), (625, 'old'), (624, 'fear'), (616, 'honour'), (610, 'leave'), (603, 'thus'), (600, 'brother'), (590, 'comes'), (588, 'noble'), (577, 'heaven'), (568, 'lady'), (568, 'way'), (566, 'better'), (553, 'poor'), (551, 'pray'), (548, 'being'), (547, 'house'), (541, 'nothing'), (536, 'many'), (528, 'both'), (527, 'hast'), (525, 'head'), (512, 'myself'), (507, 'bear'), (507, 'dead'), (505, 'find'), (503, 'master'), (501, 'word'), (499, 'still'), (497, 'part'), (495, 'wife'), (484, 'live'), (476, 'little'), (468, 'first'), (467, 'those'), (466, 'stand'), (462, 'soul'), (462, 'friends'), (455, 'against'), (454, 'die'), (452, 'gone'), (450, 'place'), (447, 'long'), (443, 'show')]\n"
     ]
    }
   ],
   "source": [
    "#count word frequency\n",
    "for word in new_list:\n",
    "    count = frequency.get(word,0)\n",
    "    frequency[word] = count + 1\n",
    "     \n",
    "frequency_list = frequency.keys()\n",
    "#convert to a list \n",
    "ls = []  \n",
    "for words in frequency_list:\n",
    "    #print ( words, frequency[words])   \n",
    "    ls.append((frequency[words],words))  \n",
    "print(ls[0:100]) \n",
    "#sort the list according the word frequency\n",
    "lssorted=sorted(ls,key=lambda ls:ls[0],reverse = True)\n",
    "print(lssorted[0:100]) \n"
   ]
  },
  {
   "cell_type": "code",
   "execution_count": 6,
   "metadata": {
    "collapsed": false
   },
   "outputs": [
    {
     "name": "stdout",
     "output_type": "stream",
     "text": [
      "top20words\n",
      "    frequency    word\n",
      "0        4594    thou\n",
      "1        3634     thy\n",
      "2        3162    thee\n",
      "3        2282    good\n",
      "4        2072    more\n",
      "5        2071    love\n",
      "6        2046    lord\n",
      "7        1994     now\n",
      "8        1966     man\n",
      "9        1763     sir\n",
      "10       1655    well\n",
      "11       1650    hath\n",
      "12       1650    know\n",
      "13       1563    come\n",
      "14       1473    make\n",
      "15       1430    upon\n",
      "16       1331     see\n",
      "17       1076    mine\n",
      "18       1051   heart\n",
      "19       1034  father\n"
     ]
    }
   ],
   "source": [
    "import pandas as pd\n",
    "df_lssorted = pd.DataFrame(lssorted,columns=('frequency','word'))\n",
    "#set top num\n",
    "topname = [*map('top{}words'.format, range(n, n+1))]\n",
    "#convert list to string\n",
    "topname=''.join(topname)\n",
    "print (topname)\n",
    "top = df_lssorted[0:n]\n",
    "print(top)"
   ]
  },
  {
   "cell_type": "code",
   "execution_count": 7,
   "metadata": {
    "collapsed": false
   },
   "outputs": [
    {
     "data": {
      "image/png": "[encoded data removed]",
      "text/plain": [
       "<matplotlib.figure.Figure at 0x85635b0>"
      ]
     },
     "metadata": {},
     "output_type": "display_data"
    }
   ],
   "source": [
    "%matplotlib inline \n",
    "import matplotlib.pyplot as plt\n",
    "top.plot(x='word', y='frequency', kind='bar')\n",
    "plt.show()"
   ]
  },
  {
   "cell_type": "code",
   "execution_count": null,
   "metadata": {
    "collapsed": true
   },
   "outputs": [],
   "source": []
  }
 ],
 "metadata": {
  "kernelspec": {
   "display_name": "Python 3",
   "language": "python",
   "name": "python3"
  },
  "language_info": {
   "codemirror_mode": {
    "name": "ipython",
    "version": 3
   },
   "file_extension": ".py",
   "mimetype": "text/x-python",
   "name": "python",
   "nbconvert_exporter": "python",
   "pygments_lexer": "ipython3",
   "version": "3.5.1"
  }
 },
 "nbformat": 4,
 "nbformat_minor": 0
}
